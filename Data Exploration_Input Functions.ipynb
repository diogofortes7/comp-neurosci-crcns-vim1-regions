{
 "cells": [
  {
   "cell_type": "code",
   "execution_count": 9,
   "metadata": {},
   "outputs": [],
   "source": [
    "# Import packages\n",
    "import pandas as pd\n",
    "import tables,numpy\n",
    "import matplotlib.pyplot as plt\n",
    "import numpy as np\n",
    "import scipy.io"
   ]
  },
  {
   "cell_type": "markdown",
   "metadata": {},
   "source": [
    "Functions for importing estimated BOLD responses and matching stimuli.\n",
    "\n",
    "First function imports a single response dataset (specific task/subject/region combination) based on user input, and optional plotting argument. Useful for exploring dataset/chacking for missing values.\n",
    "\n",
    "Second function can be used to import different combinations of datasets by combining it with nested loops. \n",
    "\n",
    "Third function imports stimulus images based on task type.\n"
   ]
  },
  {
   "cell_type": "code",
   "execution_count": 42,
   "metadata": {},
   "outputs": [],
   "source": [
    "# Open specific task (Trn/Val), subject, and region, with input requested from the user. Returns a Dataframe where columns\n",
    "# correspond to each voxel in a cortical region, and rows correspond to each stimulus image\n",
    "def get_response_input():\n",
    "    f = tables.open_file('EstimatedResponses.mat')\n",
    "    task = input(\"Task type (Trn/Val):\")\n",
    "    if task not in ['Trn','Val']:\n",
    "        print(\"Task name not recognized\")\n",
    "        return\n",
    "    subj = int(input(\"Subject # (1/2):\"))\n",
    "    if subj not in [1,2]:\n",
    "        print(\"Subject number not recognized\")\n",
    "        return\n",
    "    region = int(input(\"Select region number from list\\n[0] other \\n[1] V1 \\n[2] V2 \\n[3] V3 \\n[4] V3A \\n[5] V3B \\n[6] V4 \\n[7] LatOcc \\n\"))\n",
    "    if region not in range(0,8):\n",
    "        print(\"Subject number not recognized\")\n",
    "        return   \n",
    "    Dat = f.get_node('/data'+str(task)+'S'+str(subj))[:] \n",
    "    ROI = f.get_node('/roiS'+str(subj))[:].flatten() \n",
    "    idx = numpy.nonzero(ROI==region)[0] \n",
    "    resp = Dat[:,idx] \n",
    "    plot_pref = input(\"Plot response (Y/N):\")\n",
    "    if plot_pref == 'Y':\n",
    "        fig, ax = plt.subplots(figsize=(50, 50))\n",
    "        plt.imshow(V1resp, cmap='seismic', interpolation='none',aspect='equal')\n",
    "        plt.show()\n",
    "    resp = pd.DataFrame(resp)\n",
    "    return resp"
   ]
  },
  {
   "cell_type": "code",
   "execution_count": 41,
   "metadata": {},
   "outputs": [],
   "source": [
    "# Open specific task (Trn/Val), subject, and region, with input specified. Returns a Dataframe where columns\n",
    "# correspond to each voxel in a cortical region, and rows correspond to each stimulus image\n",
    "def get_response_task_subj_reg(task,subj,region):\n",
    "    f = tables.open_file('EstimatedResponses.mat')\n",
    "    f.list_nodes\n",
    "    if task not in ['Trn','Val']:\n",
    "        print(\"Task name not recognized\")\n",
    "        return\n",
    "    if subj not in [1,2]:\n",
    "        print(\"Subject number not recognized\")\n",
    "        return\n",
    "    if region not in range(0,8):\n",
    "        print(\"Subject number not recognized\")\n",
    "        return   \n",
    "    Dat = f.get_node('/data'+str(task)+'S'+str(subj))[:] \n",
    "    ROI = f.get_node('/roiS'+str(subj))[:].flatten() \n",
    "    idx = numpy.nonzero(ROI==region)[0] \n",
    "    resp = Dat[:,idx] \n",
    "    resp = pd.DataFrame(resp)\n",
    "    return resp"
   ]
  },
  {
   "cell_type": "code",
   "execution_count": 63,
   "metadata": {},
   "outputs": [],
   "source": [
    "# Get groups of responses. Edit the fields in the loops to parse different groups. Final output is a dictionary of \n",
    "# DataFrames\n",
    "responses={}\n",
    "for task in ['Trn','Val']:\n",
    "    for subj in [1,2]:\n",
    "        for region in range(0,8):\n",
    "            responses[\"resp{0}{1}/{2}\".format(task, subj, region)]=get_response_task_subj_reg(task,subj,region)\n"
   ]
  },
  {
   "cell_type": "code",
   "execution_count": 54,
   "metadata": {},
   "outputs": [],
   "source": [
    "# Get stimuli for each type of task (Trn/Val). Returns a list of DataFrames, where each DataFrame is an image\n",
    "def get_stimuli_images(task):\n",
    "    s = scipy.io.loadmat('Stimuli.mat')\n",
    "    images = s['stim'+str(task)]\n",
    "    list_images_dfs = []\n",
    "    for i in range(0,len(images)):\n",
    "        list_images_dfs.append(pd.DataFrame(images[i]))\n",
    "    return list_images_dfs   "
   ]
  }
 ],
 "metadata": {
  "kernelspec": {
   "display_name": "Python 3",
   "language": "python",
   "name": "python3"
  },
  "language_info": {
   "codemirror_mode": {
    "name": "ipython",
    "version": 3
   },
   "file_extension": ".py",
   "mimetype": "text/x-python",
   "name": "python",
   "nbconvert_exporter": "python",
   "pygments_lexer": "ipython3",
   "version": "3.7.1"
  }
 },
 "nbformat": 4,
 "nbformat_minor": 2
}
